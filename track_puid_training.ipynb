{
 "cells": [
  {
   "cell_type": "markdown",
   "metadata": {
    "ein.tags": "worksheet-0",
    "slideshow": {
     "slide_type": "-"
    }
   },
   "source": [
    "# Track PU ID BTD training"
   ]
  },
  {
   "cell_type": "code",
   "execution_count": 1,
   "metadata": {
    "autoscroll": false,
    "collapsed": false,
    "ein.hycell": false,
    "ein.tags": "worksheet-0",
    "slideshow": {
     "slide_type": "-"
    }
   },
   "outputs": [],
   "source": [
    "import pandas as pd\n",
    "from sklearn.model_selection import train_test_split"
   ]
  },
  {
   "cell_type": "code",
   "execution_count": 2,
   "metadata": {
    "autoscroll": false,
    "collapsed": false,
    "ein.hycell": false,
    "ein.tags": "worksheet-0",
    "slideshow": {
     "slide_type": "-"
    }
   },
   "outputs": [],
   "source": [
    "import matplotlib.pyplot as plt\n",
    "%matplotlib inline\n",
    "plt.rc('font',**{'family':'sans-serif', 'sans-serif':['Helvetica'], 'size':'20'})\n",
    "plt.rcParams['figure.figsize'] = '10,10'\n",
    "plt.style.use('seaborn-white')"
   ]
  },
  {
   "cell_type": "code",
   "execution_count": 3,
   "metadata": {
    "autoscroll": false,
    "collapsed": false,
    "ein.hycell": false,
    "ein.tags": "worksheet-0",
    "slideshow": {
     "slide_type": "-"
    }
   },
   "outputs": [],
   "source": [
    "df = pd.read_hdf('/scratch/spigazzi/MTD/TDR/TrackPUID/samples/input_tracks_train.hd5', stop=500000000)"
   ]
  },
  {
   "cell_type": "code",
   "execution_count": 4,
   "metadata": {
    "autoscroll": false,
    "collapsed": false,
    "ein.hycell": false,
    "ein.tags": "worksheet-0",
    "slideshow": {
     "slide_type": "-"
    }
   },
   "outputs": [
    {
     "data": {
      "text/plain": [
       "Index(['idx', 'pt', 'eta', 'phi', 'x', 'y', 'z', 'dzErr', 'dxyErr', 'chi2',\n",
       "       'ndof', 't0', 'sigmat0', 'mtdt', 'path_len', 'probPi', 'probP', 'probK',\n",
       "       'energy', 'btlMatchChi2', 'btlMatchTimeChi2', 'etlMatchChi2',\n",
       "       'etlMatchTimeChi2', 'normalizedChi2', 'numberOfValidHits',\n",
       "       'numberOfLostHits', 'numberOfValidPixelBarrelHits',\n",
       "       'numberOfValidPixelEndcapHits', 'numberOfValidStripTIBHits',\n",
       "       'numberOfValidStripTIDHits', 'numberOfValidStripTOBHits',\n",
       "       'numberOfValidStripTECHits', 'numberOfValidHitsBTL',\n",
       "       'numberOfValidHitsETL', 'isHighPurity', 'hasMTD', 'genPdgId', 'genPt',\n",
       "       'genEta', 'genPhi', 'genDR', 'simIsFromPV', 'simPt', 'simEta', 'simPhi',\n",
       "       'simZ', 'genVtx_x', 'genVtx_y', 'genVtx_z', 'genVtx_t', 'pv3d_valid',\n",
       "       'pv3d_ntrks', 'pv3d_chi2', 'pv3d_x', 'pv3d_y', 'pv3d_z', 'pv4d_valid',\n",
       "       'pv4d_ntrks', 'pv4d_chi2', 'pv4d_x', 'pv4d_y', 'pv4d_z', 'pv4d_t'],\n",
       "      dtype='object')"
      ]
     },
     "execution_count": 4,
     "metadata": {},
     "output_type": "execute_result"
    }
   ],
   "source": [
    "df.columns"
   ]
  },
  {
   "cell_type": "code",
   "execution_count": 5,
   "metadata": {
    "autoscroll": false,
    "collapsed": false,
    "ein.hycell": false,
    "ein.tags": "worksheet-0",
    "slideshow": {
     "slide_type": "-"
    }
   },
   "outputs": [
    {
     "name": "stdout",
     "output_type": "stream",
     "text": [
      "0.0245998345227 1.0000000008945111\n"
     ]
    }
   ],
   "source": [
    "df['dx'] = abs(df['x']-df['pv4d_x'])\n",
    "df['dy'] = abs(df['y']-df['pv4d_y'])\n",
    "df['dz'] = abs(df['z']-df['pv4d_z'])\n",
    "df['dt'] = abs(df['t0']-df['pv4d_t'])\n",
    "\n",
    "features = [\n",
    "    'pt',\n",
    "    'eta',\n",
    "    'phi',\n",
    "    'dx',\n",
    "    'dy',\n",
    "    'dz',\n",
    "    'dzErr',\n",
    "    'dxyErr',\n",
    "    'chi2',\n",
    "    'ndof',\n",
    "    'numberOfValidHits',\n",
    "    'numberOfValidPixelBarrelHits',\n",
    "    'numberOfValidPixelEndcapHits'\n",
    "    ]\n",
    "\n",
    "MTD_features = [\n",
    "    'dt',\n",
    "    'sigmat0',\n",
    "    'hasMTD',\n",
    "    'btlMatchChi2',\n",
    "    'btlMatchTimeChi2',\n",
    "    'etlMatchChi2',\n",
    "    'etlMatchTimeChi2',\n",
    "    'mtdt',\n",
    "    'path_len'\n",
    "]\n",
    "\n",
    "target = 'simIsFromPV'\n",
    "event_sel = (abs(df['pv4d_z']-df['genVtx_z'])<0.01) & df['pv4d_valid']\n",
    "\n",
    "pv_pu_ratio = float((df['simIsFromPV']==1).sum())/(df['simIsFromPV']==0).sum()\n",
    "df['pu_weight'] = 1.\n",
    "df.loc[df[target]==0, 'pu_weight'] = pv_pu_ratio\n",
    "print(pv_pu_ratio, df.loc[df['simIsFromPV']==0, 'pu_weight'].sum()/df.loc[df['simIsFromPV']==1, 'pu_weight'].sum())\n",
    "\n",
    "X = df[features + MTD_features][event_sel]\n",
    "y = df[target][event_sel]\n",
    "w = df['pu_weight'][event_sel]"
   ]
  },
  {
   "cell_type": "code",
   "execution_count": 6,
   "metadata": {
    "autoscroll": false,
    "collapsed": false,
    "ein.hycell": false,
    "ein.tags": "worksheet-0",
    "slideshow": {
     "slide_type": "-"
    }
   },
   "outputs": [],
   "source": [
    "X_train, X_test, y_train, y_test, w_train, w_test = train_test_split(X, y, w, test_size=0.2, random_state=12345)"
   ]
  },
  {
   "cell_type": "code",
   "execution_count": 7,
   "metadata": {
    "autoscroll": false,
    "collapsed": false,
    "ein.hycell": false,
    "ein.tags": "worksheet-0",
    "slideshow": {
     "slide_type": "-"
    }
   },
   "outputs": [],
   "source": [
    "from xgboost import XGBClassifier "
   ]
  },
  {
   "cell_type": "code",
   "execution_count": 8,
   "metadata": {
    "autoscroll": false,
    "collapsed": false,
    "ein.hycell": false,
    "ein.tags": "worksheet-0",
    "slideshow": {
     "slide_type": "-"
    }
   },
   "outputs": [
    {
     "data": {
      "text/plain": [
       "XGBClassifier(base_score=0.5, booster='gbtree', colsample_bylevel=1,\n",
       "       colsample_bytree=1, gamma=0, learning_rate=0.1, max_delta_step=0,\n",
       "       max_depth=5, min_child_weight=1, missing=None, n_estimators=500,\n",
       "       n_jobs=1, nthread=8, objective='binary:logistic', random_state=0,\n",
       "       reg_alpha=0, reg_lambda=1, scale_pos_weight=1, seed=None,\n",
       "       silent=True, subsample=0.75)"
      ]
     },
     "execution_count": 8,
     "metadata": {},
     "output_type": "execute_result"
    }
   ],
   "source": [
    "clf3D = XGBClassifier(max_depth=5, n_estimators=500, nthread=8, objective='binary:logistic', subsample=0.75)\n",
    "clf3D"
   ]
  },
  {
   "cell_type": "code",
   "execution_count": 10,
   "metadata": {
    "autoscroll": false,
    "collapsed": false,
    "ein.hycell": false,
    "ein.tags": "worksheet-0",
    "slideshow": {
     "slide_type": "-"
    }
   },
   "outputs": [
    {
     "name": "stdout",
     "output_type": "stream",
     "text": [
      "[11:01:04] Tree method is automatically selected to be 'approx' for faster speed. To use old behavior (exact greedy algorithm on single machine), set tree_method to 'exact'.\n"
     ]
    },
    {
     "name": "stdout",
     "output_type": "stream",
     "text": [
      "[0]\tvalidation_0-error:0.04818\tvalidation_0-rmse:0.464875\tvalidation_0-mae:0.464595\tvalidation_0-logloss:0.625225\tvalidation_1-error:0.048187\tvalidation_1-rmse:0.464883\tvalidation_1-mae:0.464602\tvalidation_1-logloss:0.62524\n"
     ]
    },
    {
     "name": "stdout",
     "output_type": "stream",
     "text": [
      "Multiple eval metrics have been passed: 'validation_1-logloss' will be used for early stopping.\n",
      "\n"
     ]
    },
    {
     "name": "stdout",
     "output_type": "stream",
     "text": [
      "Will train until validation_1-logloss hasn't improved in 5 rounds.\n"
     ]
    },
    {
     "name": "stdout",
     "output_type": "stream",
     "text": [
      "[1]\tvalidation_0-error:0.046214\tvalidation_0-rmse:0.433964\tvalidation_0-mae:0.432907\tvalidation_0-logloss:0.5689\tvalidation_1-error:0.046251\tvalidation_1-rmse:0.433979\tvalidation_1-mae:0.43292\tvalidation_1-logloss:0.568926\n"
     ]
    },
    {
     "name": "stdout",
     "output_type": "stream",
     "text": [
      "[2]\tvalidation_0-error:0.047605\tvalidation_0-rmse:0.406717\tvalidation_0-mae:0.404444\tvalidation_0-logloss:0.521515\tvalidation_1-error:0.047667\tvalidation_1-rmse:0.406737\tvalidation_1-mae:0.404461\tvalidation_1-logloss:0.521548\n"
     ]
    },
    {
     "name": "stdout",
     "output_type": "stream",
     "text": [
      "[3]\tvalidation_0-error:0.047468\tvalidation_0-rmse:0.382713\tvalidation_0-mae:0.378847\tvalidation_0-logloss:0.481261\tvalidation_1-error:0.047543\tvalidation_1-rmse:0.382742\tvalidation_1-mae:0.378869\tvalidation_1-logloss:0.481307\n"
     ]
    },
    {
     "name": "stdout",
     "output_type": "stream",
     "text": [
      "[4]\tvalidation_0-error:0.04687\tvalidation_0-rmse:0.361567\tvalidation_0-mae:0.355808\tvalidation_0-logloss:0.44678\tvalidation_1-error:0.046953\tvalidation_1-rmse:0.361605\tvalidation_1-mae:0.355835\tvalidation_1-logloss:0.446837\n"
     ]
    },
    {
     "name": "stdout",
     "output_type": "stream",
     "text": [
      "[5]\tvalidation_0-error:0.046281\tvalidation_0-rmse:0.343007\tvalidation_0-mae:0.335059\tvalidation_0-logloss:0.41712\tvalidation_1-error:0.046323\tvalidation_1-rmse:0.34305\tvalidation_1-mae:0.335089\tvalidation_1-logloss:0.417183\n"
     ]
    },
    {
     "name": "stdout",
     "output_type": "stream",
     "text": [
      "[6]\tvalidation_0-error:0.046324\tvalidation_0-rmse:0.326721\tvalidation_0-mae:0.316355\tvalidation_0-logloss:0.391458\tvalidation_1-error:0.046361\tvalidation_1-rmse:0.326772\tvalidation_1-mae:0.316389\tvalidation_1-logloss:0.391532\n"
     ]
    },
    {
     "name": "stdout",
     "output_type": "stream",
     "text": [
      "[7]\tvalidation_0-error:0.045939\tvalidation_0-rmse:0.312393\tvalidation_0-mae:0.299459\tvalidation_0-logloss:0.369091\tvalidation_1-error:0.045995\tvalidation_1-rmse:0.312451\tvalidation_1-mae:0.299495\tvalidation_1-logloss:0.369171\n"
     ]
    },
    {
     "name": "stdout",
     "output_type": "stream",
     "text": [
      "[8]\tvalidation_0-error:0.045989\tvalidation_0-rmse:0.299858\tvalidation_0-mae:0.284203\tvalidation_0-logloss:0.349583\tvalidation_1-error:0.046039\tvalidation_1-rmse:0.299925\tvalidation_1-mae:0.284243\tvalidation_1-logloss:0.349673\n"
     ]
    },
    {
     "name": "stdout",
     "output_type": "stream",
     "text": [
      "[9]\tvalidation_0-error:0.045417\tvalidation_0-rmse:0.28889\tvalidation_0-mae:0.270453\tvalidation_0-logloss:0.332541\tvalidation_1-error:0.045465\tvalidation_1-rmse:0.288961\tvalidation_1-mae:0.270494\tvalidation_1-logloss:0.332634\n"
     ]
    },
    {
     "name": "stdout",
     "output_type": "stream",
     "text": [
      "[10]\tvalidation_0-error:0.045372\tvalidation_0-rmse:0.279294\tvalidation_0-mae:0.258019\tvalidation_0-logloss:0.317588\tvalidation_1-error:0.045414\tvalidation_1-rmse:0.279372\tvalidation_1-mae:0.258062\tvalidation_1-logloss:0.317689\n"
     ]
    },
    {
     "name": "stdout",
     "output_type": "stream",
     "text": [
      "[11]\tvalidation_0-error:0.045265\tvalidation_0-rmse:0.27089\tvalidation_0-mae:0.24675\tvalidation_0-logloss:0.304419\tvalidation_1-error:0.045298\tvalidation_1-rmse:0.270971\tvalidation_1-mae:0.246792\tvalidation_1-logloss:0.304522\n"
     ]
    },
    {
     "name": "stdout",
     "output_type": "stream",
     "text": [
      "[12]\tvalidation_0-error:0.045027\tvalidation_0-rmse:0.263568\tvalidation_0-mae:0.236604\tvalidation_0-logloss:0.292854\tvalidation_1-error:0.045061\tvalidation_1-rmse:0.263653\tvalidation_1-mae:0.236647\tvalidation_1-logloss:0.292961\n"
     ]
    },
    {
     "name": "stdout",
     "output_type": "stream",
     "text": [
      "[13]\tvalidation_0-error:0.04508\tvalidation_0-rmse:0.257182\tvalidation_0-mae:0.227472\tvalidation_0-logloss:0.282705\tvalidation_1-error:0.045106\tvalidation_1-rmse:0.257272\tvalidation_1-mae:0.227516\tvalidation_1-logloss:0.282817\n"
     ]
    },
    {
     "name": "stdout",
     "output_type": "stream",
     "text": [
      "[14]\tvalidation_0-error:0.045242\tvalidation_0-rmse:0.251649\tvalidation_0-mae:0.219205\tvalidation_0-logloss:0.273753\tvalidation_1-error:0.045267\tvalidation_1-rmse:0.251741\tvalidation_1-mae:0.219249\tvalidation_1-logloss:0.273867\n"
     ]
    },
    {
     "name": "stdout",
     "output_type": "stream",
     "text": [
      "[15]\tvalidation_0-error:0.044945\tvalidation_0-rmse:0.246778\tvalidation_0-mae:0.211707\tvalidation_0-logloss:0.265819\tvalidation_1-error:0.044967\tvalidation_1-rmse:0.246873\tvalidation_1-mae:0.211752\tvalidation_1-logloss:0.265937\n"
     ]
    },
    {
     "name": "stdout",
     "output_type": "stream",
     "text": [
      "[16]\tvalidation_0-error:0.044777\tvalidation_0-rmse:0.242458\tvalidation_0-mae:0.204892\tvalidation_0-logloss:0.258745\tvalidation_1-error:0.044808\tvalidation_1-rmse:0.242556\tvalidation_1-mae:0.204939\tvalidation_1-logloss:0.258867\n"
     ]
    },
    {
     "name": "stdout",
     "output_type": "stream",
     "text": [
      "[17]\tvalidation_0-error:0.044763\tvalidation_0-rmse:0.238732\tvalidation_0-mae:0.198779\tvalidation_0-logloss:0.252539\tvalidation_1-error:0.044812\tvalidation_1-rmse:0.238835\tvalidation_1-mae:0.198828\tvalidation_1-logloss:0.252666\n"
     ]
    },
    {
     "name": "stdout",
     "output_type": "stream",
     "text": [
      "[18]\tvalidation_0-error:0.044785\tvalidation_0-rmse:0.235434\tvalidation_0-mae:0.193239\tvalidation_0-logloss:0.247036\tvalidation_1-error:0.044843\tvalidation_1-rmse:0.235538\tvalidation_1-mae:0.193287\tvalidation_1-logloss:0.247164\n"
     ]
    },
    {
     "name": "stdout",
     "output_type": "stream",
     "text": [
      "[19]\tvalidation_0-error:0.04478\tvalidation_0-rmse:0.232574\tvalidation_0-mae:0.188221\tvalidation_0-logloss:0.24218\tvalidation_1-error:0.044839\tvalidation_1-rmse:0.232678\tvalidation_1-mae:0.188268\tvalidation_1-logloss:0.242307\n"
     ]
    },
    {
     "name": "stdout",
     "output_type": "stream",
     "text": [
      "[20]\tvalidation_0-error:0.044781\tvalidation_0-rmse:0.229984\tvalidation_0-mae:0.183661\tvalidation_0-logloss:0.237819\tvalidation_1-error:0.04483\tvalidation_1-rmse:0.230086\tvalidation_1-mae:0.183706\tvalidation_1-logloss:0.237946\n"
     ]
    },
    {
     "name": "stdout",
     "output_type": "stream",
     "text": [
      "[21]\tvalidation_0-error:0.044642\tvalidation_0-rmse:0.227805\tvalidation_0-mae:0.179617\tvalidation_0-logloss:0.234039\tvalidation_1-error:0.044703\tvalidation_1-rmse:0.22791\tvalidation_1-mae:0.179664\tvalidation_1-logloss:0.234169\n"
     ]
    },
    {
     "name": "stdout",
     "output_type": "stream",
     "text": [
      "[22]\tvalidation_0-error:0.044551\tvalidation_0-rmse:0.22576\tvalidation_0-mae:0.175902\tvalidation_0-logloss:0.23061\tvalidation_1-error:0.044605\tvalidation_1-rmse:0.225869\tvalidation_1-mae:0.175951\tvalidation_1-logloss:0.230744\n"
     ]
    },
    {
     "name": "stdout",
     "output_type": "stream",
     "text": [
      "[23]\tvalidation_0-error:0.044586\tvalidation_0-rmse:0.224073\tvalidation_0-mae:0.172584\tvalidation_0-logloss:0.227636\tvalidation_1-error:0.044633\tvalidation_1-rmse:0.224182\tvalidation_1-mae:0.172632\tvalidation_1-logloss:0.227772\n"
     ]
    },
    {
     "name": "stdout",
     "output_type": "stream",
     "text": [
      "[24]\tvalidation_0-error:0.044432\tvalidation_0-rmse:0.222444\tvalidation_0-mae:0.169514\tvalidation_0-logloss:0.224903\tvalidation_1-error:0.044482\tvalidation_1-rmse:0.222554\tvalidation_1-mae:0.169563\tvalidation_1-logloss:0.225039\n"
     ]
    },
    {
     "name": "stdout",
     "output_type": "stream",
     "text": [
      "[25]\tvalidation_0-error:0.044441\tvalidation_0-rmse:0.221056\tvalidation_0-mae:0.166732\tvalidation_0-logloss:0.222515\tvalidation_1-error:0.044502\tvalidation_1-rmse:0.221169\tvalidation_1-mae:0.166783\tvalidation_1-logloss:0.222655\n"
     ]
    },
    {
     "name": "stdout",
     "output_type": "stream",
     "text": [
      "[26]\tvalidation_0-error:0.044511\tvalidation_0-rmse:0.219855\tvalidation_0-mae:0.164259\tvalidation_0-logloss:0.220464\tvalidation_1-error:0.044547\tvalidation_1-rmse:0.21997\tvalidation_1-mae:0.16431\tvalidation_1-logloss:0.220606\n"
     ]
    },
    {
     "name": "stdout",
     "output_type": "stream",
     "text": [
      "[27]\tvalidation_0-error:0.044535\tvalidation_0-rmse:0.218871\tvalidation_0-mae:0.162095\tvalidation_0-logloss:0.21866\tvalidation_1-error:0.044581\tvalidation_1-rmse:0.218989\tvalidation_1-mae:0.162147\tvalidation_1-logloss:0.218806\n"
     ]
    },
    {
     "name": "stdout",
     "output_type": "stream",
     "text": [
      "[28]\tvalidation_0-error:0.044504\tvalidation_0-rmse:0.217915\tvalidation_0-mae:0.160031\tvalidation_0-logloss:0.216982\tvalidation_1-error:0.044538\tvalidation_1-rmse:0.218034\tvalidation_1-mae:0.160082\tvalidation_1-logloss:0.21713\n"
     ]
    },
    {
     "name": "stdout",
     "output_type": "stream",
     "text": [
      "[29]\tvalidation_0-error:0.044587\tvalidation_0-rmse:0.217126\tvalidation_0-mae:0.158151\tvalidation_0-logloss:0.215553\tvalidation_1-error:0.044627\tvalidation_1-rmse:0.217243\tvalidation_1-mae:0.158201\tvalidation_1-logloss:0.2157\n"
     ]
    },
    {
     "name": "stdout",
     "output_type": "stream",
     "text": [
      "[30]\tvalidation_0-error:0.044551\tvalidation_0-rmse:0.216387\tvalidation_0-mae:0.15647\tvalidation_0-logloss:0.214273\tvalidation_1-error:0.044588\tvalidation_1-rmse:0.216507\tvalidation_1-mae:0.156521\tvalidation_1-logloss:0.214424\n"
     ]
    },
    {
     "name": "stdout",
     "output_type": "stream",
     "text": [
      "[31]\tvalidation_0-error:0.044471\tvalidation_0-rmse:0.215694\tvalidation_0-mae:0.154967\tvalidation_0-logloss:0.213119\tvalidation_1-error:0.044501\tvalidation_1-rmse:0.215815\tvalidation_1-mae:0.15502\tvalidation_1-logloss:0.213268\n"
     ]
    },
    {
     "name": "stdout",
     "output_type": "stream",
     "text": [
      "[32]\tvalidation_0-error:0.044488\tvalidation_0-rmse:0.215089\tvalidation_0-mae:0.153569\tvalidation_0-logloss:0.212073\tvalidation_1-error:0.04452\tvalidation_1-rmse:0.215208\tvalidation_1-mae:0.153621\tvalidation_1-logloss:0.212221\n"
     ]
    },
    {
     "name": "stdout",
     "output_type": "stream",
     "text": [
      "[33]\tvalidation_0-error:0.044566\tvalidation_0-rmse:0.214635\tvalidation_0-mae:0.152347\tvalidation_0-logloss:0.211187\tvalidation_1-error:0.044595\tvalidation_1-rmse:0.214753\tvalidation_1-mae:0.152399\tvalidation_1-logloss:0.211333\n"
     ]
    },
    {
     "name": "stdout",
     "output_type": "stream",
     "text": [
      "[34]\tvalidation_0-error:0.04448\tvalidation_0-rmse:0.214123\tvalidation_0-mae:0.151189\tvalidation_0-logloss:0.210364\tvalidation_1-error:0.044514\tvalidation_1-rmse:0.214239\tvalidation_1-mae:0.151241\tvalidation_1-logloss:0.210505\n"
     ]
    },
    {
     "name": "stdout",
     "output_type": "stream",
     "text": [
      "[35]\tvalidation_0-error:0.04446\tvalidation_0-rmse:0.213671\tvalidation_0-mae:0.150135\tvalidation_0-logloss:0.209637\tvalidation_1-error:0.044495\tvalidation_1-rmse:0.213788\tvalidation_1-mae:0.150187\tvalidation_1-logloss:0.209781\n"
     ]
    },
    {
     "name": "stdout",
     "output_type": "stream",
     "text": [
      "[36]\tvalidation_0-error:0.044416\tvalidation_0-rmse:0.213233\tvalidation_0-mae:0.149185\tvalidation_0-logloss:0.208962\tvalidation_1-error:0.044453\tvalidation_1-rmse:0.21335\tvalidation_1-mae:0.149237\tvalidation_1-logloss:0.209105\n"
     ]
    },
    {
     "name": "stdout",
     "output_type": "stream",
     "text": [
      "[37]\tvalidation_0-error:0.044462\tvalidation_0-rmse:0.212956\tvalidation_0-mae:0.14836\tvalidation_0-logloss:0.208427\tvalidation_1-error:0.044496\tvalidation_1-rmse:0.213073\tvalidation_1-mae:0.148412\tvalidation_1-logloss:0.208571\n"
     ]
    },
    {
     "name": "stdout",
     "output_type": "stream",
     "text": [
      "[38]\tvalidation_0-error:0.044431\tvalidation_0-rmse:0.212629\tvalidation_0-mae:0.1476\tvalidation_0-logloss:0.207921\tvalidation_1-error:0.044466\tvalidation_1-rmse:0.212745\tvalidation_1-mae:0.147651\tvalidation_1-logloss:0.208062\n"
     ]
    },
    {
     "name": "stdout",
     "output_type": "stream",
     "text": [
      "[39]\tvalidation_0-error:0.044382\tvalidation_0-rmse:0.2123\tvalidation_0-mae:0.146874\tvalidation_0-logloss:0.207474\tvalidation_1-error:0.044423\tvalidation_1-rmse:0.212416\tvalidation_1-mae:0.146926\tvalidation_1-logloss:0.207616\n"
     ]
    },
    {
     "name": "stdout",
     "output_type": "stream",
     "text": [
      "[40]\tvalidation_0-error:0.044327\tvalidation_0-rmse:0.211988\tvalidation_0-mae:0.146278\tvalidation_0-logloss:0.207051\tvalidation_1-error:0.044367\tvalidation_1-rmse:0.212105\tvalidation_1-mae:0.14633\tvalidation_1-logloss:0.207194\n"
     ]
    },
    {
     "name": "stdout",
     "output_type": "stream",
     "text": [
      "[41]\tvalidation_0-error:0.044322\tvalidation_0-rmse:0.21177\tvalidation_0-mae:0.145713\tvalidation_0-logloss:0.206727\tvalidation_1-error:0.044351\tvalidation_1-rmse:0.211886\tvalidation_1-mae:0.145764\tvalidation_1-logloss:0.206868\n"
     ]
    },
    {
     "name": "stdout",
     "output_type": "stream",
     "text": [
      "[42]\tvalidation_0-error:0.044272\tvalidation_0-rmse:0.211534\tvalidation_0-mae:0.145223\tvalidation_0-logloss:0.206408\tvalidation_1-error:0.044317\tvalidation_1-rmse:0.211649\tvalidation_1-mae:0.145274\tvalidation_1-logloss:0.206547\n"
     ]
    },
    {
     "name": "stdout",
     "output_type": "stream",
     "text": [
      "[43]\tvalidation_0-error:0.044229\tvalidation_0-rmse:0.211299\tvalidation_0-mae:0.144752\tvalidation_0-logloss:0.206102\tvalidation_1-error:0.04426\tvalidation_1-rmse:0.211415\tvalidation_1-mae:0.144803\tvalidation_1-logloss:0.206241\n"
     ]
    },
    {
     "name": "stdout",
     "output_type": "stream",
     "text": [
      "[44]\tvalidation_0-error:0.044225\tvalidation_0-rmse:0.211105\tvalidation_0-mae:0.144312\tvalidation_0-logloss:0.205825\tvalidation_1-error:0.044258\tvalidation_1-rmse:0.211218\tvalidation_1-mae:0.144363\tvalidation_1-logloss:0.205961\n"
     ]
    },
    {
     "name": "stdout",
     "output_type": "stream",
     "text": [
      "[45]\tvalidation_0-error:0.044204\tvalidation_0-rmse:0.210921\tvalidation_0-mae:0.143934\tvalidation_0-logloss:0.205596\tvalidation_1-error:0.044246\tvalidation_1-rmse:0.211035\tvalidation_1-mae:0.143985\tvalidation_1-logloss:0.205733\n"
     ]
    },
    {
     "name": "stdout",
     "output_type": "stream",
     "text": [
      "[46]\tvalidation_0-error:0.044223\tvalidation_0-rmse:0.210813\tvalidation_0-mae:0.143652\tvalidation_0-logloss:0.205421\tvalidation_1-error:0.044259\tvalidation_1-rmse:0.210926\tvalidation_1-mae:0.143703\tvalidation_1-logloss:0.205555\n"
     ]
    },
    {
     "name": "stdout",
     "output_type": "stream",
     "text": [
      "[47]\tvalidation_0-error:0.044292\tvalidation_0-rmse:0.210719\tvalidation_0-mae:0.143327\tvalidation_0-logloss:0.205251\tvalidation_1-error:0.044318\tvalidation_1-rmse:0.210833\tvalidation_1-mae:0.143379\tvalidation_1-logloss:0.205387\n"
     ]
    },
    {
     "name": "stdout",
     "output_type": "stream",
     "text": [
      "[48]\tvalidation_0-error:0.044263\tvalidation_0-rmse:0.210542\tvalidation_0-mae:0.142947\tvalidation_0-logloss:0.205014\tvalidation_1-error:0.044296\tvalidation_1-rmse:0.210654\tvalidation_1-mae:0.142998\tvalidation_1-logloss:0.205147\n"
     ]
    },
    {
     "name": "stdout",
     "output_type": "stream",
     "text": [
      "[49]\tvalidation_0-error:0.044318\tvalidation_0-rmse:0.210443\tvalidation_0-mae:0.142639\tvalidation_0-logloss:0.204853\tvalidation_1-error:0.044339\tvalidation_1-rmse:0.210556\tvalidation_1-mae:0.142691\tvalidation_1-logloss:0.204989\n"
     ]
    },
    {
     "name": "stdout",
     "output_type": "stream",
     "text": [
      "[50]\tvalidation_0-error:0.044356\tvalidation_0-rmse:0.21037\tvalidation_0-mae:0.142357\tvalidation_0-logloss:0.204716\tvalidation_1-error:0.044378\tvalidation_1-rmse:0.210484\tvalidation_1-mae:0.142409\tvalidation_1-logloss:0.204852\n"
     ]
    },
    {
     "name": "stdout",
     "output_type": "stream",
     "text": [
      "[51]\tvalidation_0-error:0.044343\tvalidation_0-rmse:0.210297\tvalidation_0-mae:0.142158\tvalidation_0-logloss:0.204633\tvalidation_1-error:0.04437\tvalidation_1-rmse:0.210409\tvalidation_1-mae:0.14221\tvalidation_1-logloss:0.204767\n"
     ]
    },
    {
     "name": "stdout",
     "output_type": "stream",
     "text": [
      "[52]\tvalidation_0-error:0.044351\tvalidation_0-rmse:0.210209\tvalidation_0-mae:0.141923\tvalidation_0-logloss:0.204501\tvalidation_1-error:0.044369\tvalidation_1-rmse:0.21032\tvalidation_1-mae:0.141974\tvalidation_1-logloss:0.204633\n"
     ]
    },
    {
     "name": "stdout",
     "output_type": "stream",
     "text": [
      "[53]\tvalidation_0-error:0.044344\tvalidation_0-rmse:0.210105\tvalidation_0-mae:0.141703\tvalidation_0-logloss:0.204391\tvalidation_1-error:0.04436\tvalidation_1-rmse:0.210215\tvalidation_1-mae:0.141754\tvalidation_1-logloss:0.204523\n"
     ]
    },
    {
     "name": "stdout",
     "output_type": "stream",
     "text": [
      "[54]\tvalidation_0-error:0.044372\tvalidation_0-rmse:0.210082\tvalidation_0-mae:0.14153\tvalidation_0-logloss:0.204316\tvalidation_1-error:0.044395\tvalidation_1-rmse:0.210192\tvalidation_1-mae:0.141582\tvalidation_1-logloss:0.204449\n"
     ]
    },
    {
     "name": "stdout",
     "output_type": "stream",
     "text": [
      "[55]\tvalidation_0-error:0.044358\tvalidation_0-rmse:0.210021\tvalidation_0-mae:0.141392\tvalidation_0-logloss:0.20426\tvalidation_1-error:0.044382\tvalidation_1-rmse:0.210131\tvalidation_1-mae:0.141443\tvalidation_1-logloss:0.204391\n"
     ]
    },
    {
     "name": "stdout",
     "output_type": "stream",
     "text": [
      "[56]\tvalidation_0-error:0.044355\tvalidation_0-rmse:0.209961\tvalidation_0-mae:0.14124\tvalidation_0-logloss:0.204193\tvalidation_1-error:0.044371\tvalidation_1-rmse:0.210071\tvalidation_1-mae:0.141291\tvalidation_1-logloss:0.204321\n"
     ]
    },
    {
     "name": "stdout",
     "output_type": "stream",
     "text": [
      "[57]\tvalidation_0-error:0.044372\tvalidation_0-rmse:0.20995\tvalidation_0-mae:0.14112\tvalidation_0-logloss:0.204115\tvalidation_1-error:0.044395\tvalidation_1-rmse:0.21006\tvalidation_1-mae:0.141172\tvalidation_1-logloss:0.204243\n"
     ]
    },
    {
     "name": "stdout",
     "output_type": "stream",
     "text": [
      "[58]\tvalidation_0-error:0.044383\tvalidation_0-rmse:0.209891\tvalidation_0-mae:0.140965\tvalidation_0-logloss:0.204038\tvalidation_1-error:0.044406\tvalidation_1-rmse:0.210002\tvalidation_1-mae:0.141017\tvalidation_1-logloss:0.204167\n"
     ]
    },
    {
     "name": "stdout",
     "output_type": "stream",
     "text": [
      "[59]\tvalidation_0-error:0.04439\tvalidation_0-rmse:0.209866\tvalidation_0-mae:0.140898\tvalidation_0-logloss:0.203988\tvalidation_1-error:0.044414\tvalidation_1-rmse:0.209976\tvalidation_1-mae:0.140949\tvalidation_1-logloss:0.204115\n"
     ]
    },
    {
     "name": "stdout",
     "output_type": "stream",
     "text": [
      "[60]\tvalidation_0-error:0.044384\tvalidation_0-rmse:0.209822\tvalidation_0-mae:0.140785\tvalidation_0-logloss:0.203917\tvalidation_1-error:0.044406\tvalidation_1-rmse:0.209933\tvalidation_1-mae:0.140837\tvalidation_1-logloss:0.204044\n"
     ]
    },
    {
     "name": "stdout",
     "output_type": "stream",
     "text": [
      "[61]\tvalidation_0-error:0.044402\tvalidation_0-rmse:0.209802\tvalidation_0-mae:0.140685\tvalidation_0-logloss:0.203895\tvalidation_1-error:0.044427\tvalidation_1-rmse:0.209914\tvalidation_1-mae:0.140737\tvalidation_1-logloss:0.204024\n"
     ]
    },
    {
     "name": "stdout",
     "output_type": "stream",
     "text": [
      "[62]\tvalidation_0-error:0.044389\tvalidation_0-rmse:0.209757\tvalidation_0-mae:0.140609\tvalidation_0-logloss:0.203853\tvalidation_1-error:0.04441\tvalidation_1-rmse:0.209868\tvalidation_1-mae:0.14066\tvalidation_1-logloss:0.203981\n"
     ]
    },
    {
     "name": "stdout",
     "output_type": "stream",
     "text": [
      "[63]\tvalidation_0-error:0.044414\tvalidation_0-rmse:0.209747\tvalidation_0-mae:0.140442\tvalidation_0-logloss:0.20376\tvalidation_1-error:0.044438\tvalidation_1-rmse:0.209858\tvalidation_1-mae:0.140494\tvalidation_1-logloss:0.203889\n"
     ]
    },
    {
     "name": "stdout",
     "output_type": "stream",
     "text": [
      "[64]\tvalidation_0-error:0.044442\tvalidation_0-rmse:0.209749\tvalidation_0-mae:0.140343\tvalidation_0-logloss:0.203722\tvalidation_1-error:0.044468\tvalidation_1-rmse:0.20986\tvalidation_1-mae:0.140395\tvalidation_1-logloss:0.203852\n"
     ]
    },
    {
     "name": "stdout",
     "output_type": "stream",
     "text": [
      "[65]\tvalidation_0-error:0.044466\tvalidation_0-rmse:0.209746\tvalidation_0-mae:0.140227\tvalidation_0-logloss:0.203657\tvalidation_1-error:0.044497\tvalidation_1-rmse:0.209857\tvalidation_1-mae:0.14028\tvalidation_1-logloss:0.203786\n"
     ]
    },
    {
     "name": "stdout",
     "output_type": "stream",
     "text": [
      "[66]\tvalidation_0-error:0.044491\tvalidation_0-rmse:0.209767\tvalidation_0-mae:0.140195\tvalidation_0-logloss:0.203654\tvalidation_1-error:0.044521\tvalidation_1-rmse:0.209877\tvalidation_1-mae:0.140247\tvalidation_1-logloss:0.203782\n"
     ]
    },
    {
     "name": "stdout",
     "output_type": "stream",
     "text": [
      "[67]\tvalidation_0-error:0.044487\tvalidation_0-rmse:0.209748\tvalidation_0-mae:0.14014\tvalidation_0-logloss:0.203622\tvalidation_1-error:0.044514\tvalidation_1-rmse:0.209858\tvalidation_1-mae:0.140193\tvalidation_1-logloss:0.20375\n"
     ]
    },
    {
     "name": "stdout",
     "output_type": "stream",
     "text": [
      "[68]\tvalidation_0-error:0.044493\tvalidation_0-rmse:0.209751\tvalidation_0-mae:0.140103\tvalidation_0-logloss:0.203602\tvalidation_1-error:0.044519\tvalidation_1-rmse:0.20986\tvalidation_1-mae:0.140156\tvalidation_1-logloss:0.203728\n"
     ]
    },
    {
     "name": "stdout",
     "output_type": "stream",
     "text": [
      "[69]\tvalidation_0-error:0.044491\tvalidation_0-rmse:0.209752\tvalidation_0-mae:0.140058\tvalidation_0-logloss:0.203589\tvalidation_1-error:0.044518\tvalidation_1-rmse:0.209861\tvalidation_1-mae:0.14011\tvalidation_1-logloss:0.203715\n"
     ]
    },
    {
     "name": "stdout",
     "output_type": "stream",
     "text": [
      "[70]\tvalidation_0-error:0.044481\tvalidation_0-rmse:0.209711\tvalidation_0-mae:0.139978\tvalidation_0-logloss:0.203547\tvalidation_1-error:0.044499\tvalidation_1-rmse:0.20982\tvalidation_1-mae:0.140031\tvalidation_1-logloss:0.203672\n"
     ]
    },
    {
     "name": "stdout",
     "output_type": "stream",
     "text": [
      "[71]\tvalidation_0-error:0.044484\tvalidation_0-rmse:0.209696\tvalidation_0-mae:0.139915\tvalidation_0-logloss:0.203526\tvalidation_1-error:0.044501\tvalidation_1-rmse:0.209804\tvalidation_1-mae:0.139968\tvalidation_1-logloss:0.203651\n"
     ]
    },
    {
     "name": "stdout",
     "output_type": "stream",
     "text": [
      "[72]\tvalidation_0-error:0.04447\tvalidation_0-rmse:0.209667\tvalidation_0-mae:0.139853\tvalidation_0-logloss:0.203478\tvalidation_1-error:0.044488\tvalidation_1-rmse:0.209776\tvalidation_1-mae:0.139905\tvalidation_1-logloss:0.203603\n"
     ]
    },
    {
     "name": "stdout",
     "output_type": "stream",
     "text": [
      "[73]\tvalidation_0-error:0.044474\tvalidation_0-rmse:0.209648\tvalidation_0-mae:0.139782\tvalidation_0-logloss:0.203436\tvalidation_1-error:0.044491\tvalidation_1-rmse:0.209756\tvalidation_1-mae:0.139835\tvalidation_1-logloss:0.203562\n"
     ]
    },
    {
     "name": "stdout",
     "output_type": "stream",
     "text": [
      "[74]\tvalidation_0-error:0.044484\tvalidation_0-rmse:0.209628\tvalidation_0-mae:0.139712\tvalidation_0-logloss:0.20338\tvalidation_1-error:0.044504\tvalidation_1-rmse:0.209736\tvalidation_1-mae:0.139765\tvalidation_1-logloss:0.203507\n"
     ]
    },
    {
     "name": "stdout",
     "output_type": "stream",
     "text": [
      "[75]\tvalidation_0-error:0.044493\tvalidation_0-rmse:0.209613\tvalidation_0-mae:0.139621\tvalidation_0-logloss:0.203317\tvalidation_1-error:0.044518\tvalidation_1-rmse:0.209722\tvalidation_1-mae:0.139674\tvalidation_1-logloss:0.203444\n"
     ]
    },
    {
     "name": "stdout",
     "output_type": "stream",
     "text": [
      "[76]\tvalidation_0-error:0.04448\tvalidation_0-rmse:0.209615\tvalidation_0-mae:0.139606\tvalidation_0-logloss:0.203339\tvalidation_1-error:0.044511\tvalidation_1-rmse:0.209724\tvalidation_1-mae:0.139659\tvalidation_1-logloss:0.203466\n"
     ]
    },
    {
     "name": "stdout",
     "output_type": "stream",
     "text": [
      "[77]\tvalidation_0-error:0.044478\tvalidation_0-rmse:0.209608\tvalidation_0-mae:0.139561\tvalidation_0-logloss:0.203301\tvalidation_1-error:0.044507\tvalidation_1-rmse:0.209716\tvalidation_1-mae:0.139614\tvalidation_1-logloss:0.203427\n"
     ]
    },
    {
     "name": "stdout",
     "output_type": "stream",
     "text": [
      "[78]\tvalidation_0-error:0.044473\tvalidation_0-rmse:0.209595\tvalidation_0-mae:0.139537\tvalidation_0-logloss:0.203277\tvalidation_1-error:0.044499\tvalidation_1-rmse:0.209703\tvalidation_1-mae:0.13959\tvalidation_1-logloss:0.203403\n"
     ]
    },
    {
     "name": "stdout",
     "output_type": "stream",
     "text": [
      "[79]\tvalidation_0-error:0.044458\tvalidation_0-rmse:0.209587\tvalidation_0-mae:0.139527\tvalidation_0-logloss:0.203258\tvalidation_1-error:0.044484\tvalidation_1-rmse:0.209696\tvalidation_1-mae:0.139581\tvalidation_1-logloss:0.203385\n"
     ]
    },
    {
     "name": "stdout",
     "output_type": "stream",
     "text": [
      "[80]\tvalidation_0-error:0.044456\tvalidation_0-rmse:0.209584\tvalidation_0-mae:0.139529\tvalidation_0-logloss:0.20325\tvalidation_1-error:0.04448\tvalidation_1-rmse:0.209692\tvalidation_1-mae:0.139582\tvalidation_1-logloss:0.203378\n"
     ]
    },
    {
     "name": "stdout",
     "output_type": "stream",
     "text": [
      "[81]\tvalidation_0-error:0.044451\tvalidation_0-rmse:0.209572\tvalidation_0-mae:0.13947\tvalidation_0-logloss:0.203215\tvalidation_1-error:0.044479\tvalidation_1-rmse:0.209681\tvalidation_1-mae:0.139523\tvalidation_1-logloss:0.203344\n"
     ]
    },
    {
     "name": "stdout",
     "output_type": "stream",
     "text": [
      "[82]\tvalidation_0-error:0.044434\tvalidation_0-rmse:0.209528\tvalidation_0-mae:0.139396\tvalidation_0-logloss:0.203156\tvalidation_1-error:0.044466\tvalidation_1-rmse:0.209638\tvalidation_1-mae:0.13945\tvalidation_1-logloss:0.203286\n"
     ]
    },
    {
     "name": "stdout",
     "output_type": "stream",
     "text": [
      "[83]\tvalidation_0-error:0.044431\tvalidation_0-rmse:0.209535\tvalidation_0-mae:0.1394\tvalidation_0-logloss:0.20315\tvalidation_1-error:0.04446\tvalidation_1-rmse:0.209645\tvalidation_1-mae:0.139454\tvalidation_1-logloss:0.20328\n"
     ]
    },
    {
     "name": "stdout",
     "output_type": "stream",
     "text": [
      "[84]\tvalidation_0-error:0.044413\tvalidation_0-rmse:0.209514\tvalidation_0-mae:0.139351\tvalidation_0-logloss:0.203099\tvalidation_1-error:0.044448\tvalidation_1-rmse:0.209625\tvalidation_1-mae:0.139405\tvalidation_1-logloss:0.203229\n"
     ]
    },
    {
     "name": "stdout",
     "output_type": "stream",
     "text": [
      "[85]\tvalidation_0-error:0.044403\tvalidation_0-rmse:0.209466\tvalidation_0-mae:0.139305\tvalidation_0-logloss:0.203031\tvalidation_1-error:0.044442\tvalidation_1-rmse:0.209578\tvalidation_1-mae:0.139359\tvalidation_1-logloss:0.203162\n"
     ]
    },
    {
     "name": "stdout",
     "output_type": "stream",
     "text": [
      "[86]\tvalidation_0-error:0.044404\tvalidation_0-rmse:0.209454\tvalidation_0-mae:0.13924\tvalidation_0-logloss:0.203018\tvalidation_1-error:0.044437\tvalidation_1-rmse:0.209565\tvalidation_1-mae:0.139294\tvalidation_1-logloss:0.203149\n"
     ]
    },
    {
     "name": "stdout",
     "output_type": "stream",
     "text": [
      "[87]\tvalidation_0-error:0.044422\tvalidation_0-rmse:0.209481\tvalidation_0-mae:0.139198\tvalidation_0-logloss:0.203017\tvalidation_1-error:0.044466\tvalidation_1-rmse:0.209593\tvalidation_1-mae:0.139252\tvalidation_1-logloss:0.203149\n"
     ]
    },
    {
     "name": "stdout",
     "output_type": "stream",
     "text": [
      "[88]\tvalidation_0-error:0.044429\tvalidation_0-rmse:0.209495\tvalidation_0-mae:0.139211\tvalidation_0-logloss:0.203035\tvalidation_1-error:0.044471\tvalidation_1-rmse:0.209607\tvalidation_1-mae:0.139266\tvalidation_1-logloss:0.203167\n"
     ]
    },
    {
     "name": "stdout",
     "output_type": "stream",
     "text": [
      "[89]\tvalidation_0-error:0.044442\tvalidation_0-rmse:0.209493\tvalidation_0-mae:0.139172\tvalidation_0-logloss:0.203014\tvalidation_1-error:0.044484\tvalidation_1-rmse:0.209606\tvalidation_1-mae:0.139227\tvalidation_1-logloss:0.203147\n"
     ]
    },
    {
     "name": "stdout",
     "output_type": "stream",
     "text": [
      "[90]\tvalidation_0-error:0.044429\tvalidation_0-rmse:0.209499\tvalidation_0-mae:0.139187\tvalidation_0-logloss:0.203024\tvalidation_1-error:0.044473\tvalidation_1-rmse:0.209612\tvalidation_1-mae:0.139242\tvalidation_1-logloss:0.203157\n"
     ]
    },
    {
     "name": "stdout",
     "output_type": "stream",
     "text": [
      "[91]\tvalidation_0-error:0.044429\tvalidation_0-rmse:0.209482\tvalidation_0-mae:0.139114\tvalidation_0-logloss:0.202972\tvalidation_1-error:0.044475\tvalidation_1-rmse:0.209594\tvalidation_1-mae:0.139169\tvalidation_1-logloss:0.203105\n"
     ]
    },
    {
     "name": "stdout",
     "output_type": "stream",
     "text": [
      "[92]\tvalidation_0-error:0.044467\tvalidation_0-rmse:0.209501\tvalidation_0-mae:0.139073\tvalidation_0-logloss:0.202968\tvalidation_1-error:0.044516\tvalidation_1-rmse:0.209614\tvalidation_1-mae:0.139129\tvalidation_1-logloss:0.203102\n"
     ]
    },
    {
     "name": "stdout",
     "output_type": "stream",
     "text": [
      "[93]\tvalidation_0-error:0.044477\tvalidation_0-rmse:0.209496\tvalidation_0-mae:0.139065\tvalidation_0-logloss:0.202953\tvalidation_1-error:0.044519\tvalidation_1-rmse:0.20961\tvalidation_1-mae:0.139122\tvalidation_1-logloss:0.203089\n"
     ]
    },
    {
     "name": "stdout",
     "output_type": "stream",
     "text": [
      "[94]\tvalidation_0-error:0.044486\tvalidation_0-rmse:0.209506\tvalidation_0-mae:0.139057\tvalidation_0-logloss:0.202943\tvalidation_1-error:0.044528\tvalidation_1-rmse:0.20962\tvalidation_1-mae:0.139113\tvalidation_1-logloss:0.203079\n"
     ]
    },
    {
     "name": "stdout",
     "output_type": "stream",
     "text": [
      "[95]\tvalidation_0-error:0.044471\tvalidation_0-rmse:0.209503\tvalidation_0-mae:0.139045\tvalidation_0-logloss:0.202928\tvalidation_1-error:0.044514\tvalidation_1-rmse:0.209618\tvalidation_1-mae:0.139101\tvalidation_1-logloss:0.203065\n"
     ]
    },
    {
     "name": "stdout",
     "output_type": "stream",
     "text": [
      "[96]\tvalidation_0-error:0.044466\tvalidation_0-rmse:0.209488\tvalidation_0-mae:0.139026\tvalidation_0-logloss:0.202907\tvalidation_1-error:0.044507\tvalidation_1-rmse:0.209603\tvalidation_1-mae:0.139083\tvalidation_1-logloss:0.203044\n"
     ]
    },
    {
     "name": "stdout",
     "output_type": "stream",
     "text": [
      "[97]\tvalidation_0-error:0.044477\tvalidation_0-rmse:0.209502\tvalidation_0-mae:0.138997\tvalidation_0-logloss:0.202896\tvalidation_1-error:0.044524\tvalidation_1-rmse:0.209618\tvalidation_1-mae:0.139054\tvalidation_1-logloss:0.203034\n"
     ]
    },
    {
     "name": "stdout",
     "output_type": "stream",
     "text": [
      "[98]\tvalidation_0-error:0.044432\tvalidation_0-rmse:0.209445\tvalidation_0-mae:0.138906\tvalidation_0-logloss:0.202834\tvalidation_1-error:0.044481\tvalidation_1-rmse:0.209562\tvalidation_1-mae:0.138964\tvalidation_1-logloss:0.202974\n"
     ]
    },
    {
     "name": "stdout",
     "output_type": "stream",
     "text": [
      "[99]\tvalidation_0-error:0.044403\tvalidation_0-rmse:0.209401\tvalidation_0-mae:0.138831\tvalidation_0-logloss:0.202779\tvalidation_1-error:0.044449\tvalidation_1-rmse:0.209518\tvalidation_1-mae:0.138889\tvalidation_1-logloss:0.202919\n"
     ]
    },
    {
     "name": "stdout",
     "output_type": "stream",
     "text": [
      "[100]\tvalidation_0-error:0.044426\tvalidation_0-rmse:0.209413\tvalidation_0-mae:0.1388\tvalidation_0-logloss:0.202795\tvalidation_1-error:0.044472\tvalidation_1-rmse:0.209531\tvalidation_1-mae:0.138859\tvalidation_1-logloss:0.202936\n"
     ]
    },
    {
     "name": "stdout",
     "output_type": "stream",
     "text": [
      "[101]\tvalidation_0-error:0.044424\tvalidation_0-rmse:0.209392\tvalidation_0-mae:0.138749\tvalidation_0-logloss:0.202762\tvalidation_1-error:0.04447\tvalidation_1-rmse:0.20951\tvalidation_1-mae:0.138808\tvalidation_1-logloss:0.202904\n"
     ]
    },
    {
     "name": "stdout",
     "output_type": "stream",
     "text": [
      "[102]\tvalidation_0-error:0.044405\tvalidation_0-rmse:0.209388\tvalidation_0-mae:0.138729\tvalidation_0-logloss:0.202732\tvalidation_1-error:0.044451\tvalidation_1-rmse:0.209507\tvalidation_1-mae:0.138788\tvalidation_1-logloss:0.202874\n"
     ]
    },
    {
     "name": "stdout",
     "output_type": "stream",
     "text": [
      "[103]\tvalidation_0-error:0.044416\tvalidation_0-rmse:0.209398\tvalidation_0-mae:0.138717\tvalidation_0-logloss:0.202722\tvalidation_1-error:0.044463\tvalidation_1-rmse:0.209517\tvalidation_1-mae:0.138776\tvalidation_1-logloss:0.202864\n"
     ]
    },
    {
     "name": "stdout",
     "output_type": "stream",
     "text": [
      "[104]\tvalidation_0-error:0.044418\tvalidation_0-rmse:0.209404\tvalidation_0-mae:0.13871\tvalidation_0-logloss:0.202712\tvalidation_1-error:0.04446\tvalidation_1-rmse:0.209522\tvalidation_1-mae:0.138769\tvalidation_1-logloss:0.202855\n"
     ]
    },
    {
     "name": "stdout",
     "output_type": "stream",
     "text": [
      "[105]\tvalidation_0-error:0.04442\tvalidation_0-rmse:0.2094\tvalidation_0-mae:0.138702\tvalidation_0-logloss:0.202692\tvalidation_1-error:0.044461\tvalidation_1-rmse:0.209518\tvalidation_1-mae:0.13876\tvalidation_1-logloss:0.202834\n"
     ]
    },
    {
     "name": "stdout",
     "output_type": "stream",
     "text": [
      "[106]\tvalidation_0-error:0.044435\tvalidation_0-rmse:0.209396\tvalidation_0-mae:0.138667\tvalidation_0-logloss:0.202664\tvalidation_1-error:0.044473\tvalidation_1-rmse:0.209514\tvalidation_1-mae:0.138725\tvalidation_1-logloss:0.202806\n"
     ]
    },
    {
     "name": "stdout",
     "output_type": "stream",
     "text": [
      "[107]\tvalidation_0-error:0.044447\tvalidation_0-rmse:0.209413\tvalidation_0-mae:0.138649\tvalidation_0-logloss:0.202664\tvalidation_1-error:0.044491\tvalidation_1-rmse:0.209532\tvalidation_1-mae:0.138707\tvalidation_1-logloss:0.202807\n"
     ]
    },
    {
     "name": "stdout",
     "output_type": "stream",
     "text": [
      "[108]\tvalidation_0-error:0.044438\tvalidation_0-rmse:0.209387\tvalidation_0-mae:0.138599\tvalidation_0-logloss:0.20262\tvalidation_1-error:0.044486\tvalidation_1-rmse:0.209506\tvalidation_1-mae:0.138658\tvalidation_1-logloss:0.202764\n"
     ]
    },
    {
     "name": "stdout",
     "output_type": "stream",
     "text": [
      "[109]\tvalidation_0-error:0.044423\tvalidation_0-rmse:0.209371\tvalidation_0-mae:0.138603\tvalidation_0-logloss:0.202615\tvalidation_1-error:0.044469\tvalidation_1-rmse:0.20949\tvalidation_1-mae:0.138661\tvalidation_1-logloss:0.202758\n"
     ]
    },
    {
     "name": "stdout",
     "output_type": "stream",
     "text": [
      "[110]\tvalidation_0-error:0.044398\tvalidation_0-rmse:0.209352\tvalidation_0-mae:0.13856\tvalidation_0-logloss:0.202594\tvalidation_1-error:0.044447\tvalidation_1-rmse:0.209471\tvalidation_1-mae:0.138619\tvalidation_1-logloss:0.202739\n"
     ]
    },
    {
     "name": "stdout",
     "output_type": "stream",
     "text": [
      "[111]\tvalidation_0-error:0.044396\tvalidation_0-rmse:0.209355\tvalidation_0-mae:0.138564\tvalidation_0-logloss:0.2026\tvalidation_1-error:0.044441\tvalidation_1-rmse:0.209474\tvalidation_1-mae:0.138623\tvalidation_1-logloss:0.202745\n"
     ]
    },
    {
     "name": "stdout",
     "output_type": "stream",
     "text": [
      "[112]\tvalidation_0-error:0.044392\tvalidation_0-rmse:0.209323\tvalidation_0-mae:0.138506\tvalidation_0-logloss:0.202551\tvalidation_1-error:0.04444\tvalidation_1-rmse:0.209442\tvalidation_1-mae:0.138565\tvalidation_1-logloss:0.202695\n"
     ]
    },
    {
     "name": "stdout",
     "output_type": "stream",
     "text": [
      "[113]\tvalidation_0-error:0.04438\tvalidation_0-rmse:0.209309\tvalidation_0-mae:0.138492\tvalidation_0-logloss:0.202526\tvalidation_1-error:0.044431\tvalidation_1-rmse:0.209428\tvalidation_1-mae:0.138551\tvalidation_1-logloss:0.20267\n"
     ]
    },
    {
     "name": "stdout",
     "output_type": "stream",
     "text": [
      "[114]\tvalidation_0-error:0.044376\tvalidation_0-rmse:0.209315\tvalidation_0-mae:0.138489\tvalidation_0-logloss:0.202519\tvalidation_1-error:0.044428\tvalidation_1-rmse:0.209434\tvalidation_1-mae:0.138548\tvalidation_1-logloss:0.202663\n"
     ]
    },
    {
     "name": "stdout",
     "output_type": "stream",
     "text": [
      "[115]\tvalidation_0-error:0.044367\tvalidation_0-rmse:0.209298\tvalidation_0-mae:0.13847\tvalidation_0-logloss:0.202485\tvalidation_1-error:0.044418\tvalidation_1-rmse:0.209416\tvalidation_1-mae:0.138528\tvalidation_1-logloss:0.202627\n"
     ]
    },
    {
     "name": "stdout",
     "output_type": "stream",
     "text": [
      "[116]\tvalidation_0-error:0.044363\tvalidation_0-rmse:0.209288\tvalidation_0-mae:0.138454\tvalidation_0-logloss:0.202476\tvalidation_1-error:0.044413\tvalidation_1-rmse:0.209406\tvalidation_1-mae:0.138512\tvalidation_1-logloss:0.202618\n"
     ]
    },
    {
     "name": "stdout",
     "output_type": "stream",
     "text": [
      "[117]\tvalidation_0-error:0.044353\tvalidation_0-rmse:0.209299\tvalidation_0-mae:0.138453\tvalidation_0-logloss:0.202479\tvalidation_1-error:0.0444\tvalidation_1-rmse:0.209417\tvalidation_1-mae:0.138511\tvalidation_1-logloss:0.202621\n"
     ]
    },
    {
     "name": "stdout",
     "output_type": "stream",
     "text": [
      "[118]\tvalidation_0-error:0.044364\tvalidation_0-rmse:0.209292\tvalidation_0-mae:0.138383\tvalidation_0-logloss:0.202447\tvalidation_1-error:0.044412\tvalidation_1-rmse:0.209411\tvalidation_1-mae:0.138441\tvalidation_1-logloss:0.20259\n"
     ]
    },
    {
     "name": "stdout",
     "output_type": "stream",
     "text": [
      "[119]\tvalidation_0-error:0.044344\tvalidation_0-rmse:0.209262\tvalidation_0-mae:0.138353\tvalidation_0-logloss:0.202398\tvalidation_1-error:0.044395\tvalidation_1-rmse:0.209381\tvalidation_1-mae:0.138412\tvalidation_1-logloss:0.202542\n"
     ]
    },
    {
     "name": "stdout",
     "output_type": "stream",
     "text": [
      "[120]\tvalidation_0-error:0.044313\tvalidation_0-rmse:0.209222\tvalidation_0-mae:0.138353\tvalidation_0-logloss:0.202393\tvalidation_1-error:0.044353\tvalidation_1-rmse:0.209342\tvalidation_1-mae:0.138411\tvalidation_1-logloss:0.202537\n"
     ]
    },
    {
     "name": "stdout",
     "output_type": "stream",
     "text": [
      "[121]\tvalidation_0-error:0.044307\tvalidation_0-rmse:0.20922\tvalidation_0-mae:0.138355\tvalidation_0-logloss:0.202384\tvalidation_1-error:0.044347\tvalidation_1-rmse:0.20934\tvalidation_1-mae:0.138414\tvalidation_1-logloss:0.202528\n"
     ]
    },
    {
     "name": "stdout",
     "output_type": "stream",
     "text": [
      "[122]\tvalidation_0-error:0.044315\tvalidation_0-rmse:0.209234\tvalidation_0-mae:0.138351\tvalidation_0-logloss:0.202381\tvalidation_1-error:0.044357\tvalidation_1-rmse:0.209354\tvalidation_1-mae:0.138411\tvalidation_1-logloss:0.202527\n"
     ]
    },
    {
     "name": "stdout",
     "output_type": "stream",
     "text": [
      "[123]\tvalidation_0-error:0.044322\tvalidation_0-rmse:0.209208\tvalidation_0-mae:0.138244\tvalidation_0-logloss:0.202319\tvalidation_1-error:0.044372\tvalidation_1-rmse:0.20933\tvalidation_1-mae:0.138304\tvalidation_1-logloss:0.202467\n"
     ]
    },
    {
     "name": "stdout",
     "output_type": "stream",
     "text": [
      "[124]\tvalidation_0-error:0.044323\tvalidation_0-rmse:0.209223\tvalidation_0-mae:0.13828\tvalidation_0-logloss:0.202347\tvalidation_1-error:0.044371\tvalidation_1-rmse:0.209346\tvalidation_1-mae:0.13834\tvalidation_1-logloss:0.202496\n"
     ]
    },
    {
     "name": "stdout",
     "output_type": "stream",
     "text": [
      "[125]\tvalidation_0-error:0.044319\tvalidation_0-rmse:0.209212\tvalidation_0-mae:0.138258\tvalidation_0-logloss:0.202337\tvalidation_1-error:0.044365\tvalidation_1-rmse:0.209335\tvalidation_1-mae:0.138319\tvalidation_1-logloss:0.202486\n"
     ]
    },
    {
     "name": "stdout",
     "output_type": "stream",
     "text": [
      "[126]\tvalidation_0-error:0.044313\tvalidation_0-rmse:0.209206\tvalidation_0-mae:0.138261\tvalidation_0-logloss:0.202341\tvalidation_1-error:0.044355\tvalidation_1-rmse:0.20933\tvalidation_1-mae:0.138322\tvalidation_1-logloss:0.202491\n"
     ]
    },
    {
     "name": "stdout",
     "output_type": "stream",
     "text": [
      "[127]\tvalidation_0-error:0.044337\tvalidation_0-rmse:0.209218\tvalidation_0-mae:0.138228\tvalidation_0-logloss:0.202328\tvalidation_1-error:0.04439\tvalidation_1-rmse:0.209342\tvalidation_1-mae:0.138289\tvalidation_1-logloss:0.202478\n"
     ]
    },
    {
     "name": "stdout",
     "output_type": "stream",
     "text": [
      "[128]\tvalidation_0-error:0.044332\tvalidation_0-rmse:0.209217\tvalidation_0-mae:0.13823\tvalidation_0-logloss:0.202316\tvalidation_1-error:0.044386\tvalidation_1-rmse:0.209341\tvalidation_1-mae:0.138292\tvalidation_1-logloss:0.202468\n"
     ]
    },
    {
     "name": "stdout",
     "output_type": "stream",
     "text": [
      "Stopping. Best iteration:\n",
      "[123]\tvalidation_0-error:0.044322\tvalidation_0-rmse:0.209208\tvalidation_0-mae:0.138244\tvalidation_0-logloss:0.202319\tvalidation_1-error:0.044372\tvalidation_1-rmse:0.20933\tvalidation_1-mae:0.138304\tvalidation_1-logloss:0.202467\n",
      "\n"
     ]
    },
    {
     "name": "stdout",
     "output_type": "stream",
     "text": [
      "CPU times: user 8h 7s, sys: 5min 5s, total: 8h 5min 13s\n",
      "Wall time: 1h 21min 17s\n"
     ]
    },
    {
     "name": "stdout",
     "output_type": "stream",
     "text": [
      "[12:21:44] Tree method is automatically selected to be 'approx' for faster speed. To use old behavior (exact greedy algorithm on single machine), set tree_method to 'exact'.\n"
     ]
    }
   ],
   "source": [
    "%time fitres3D = clf3D.fit(X_train[features], y_train, w_train, eval_set=[(X_test[features], y_test, w_test)], eval_metric='logloss', early_stopping_rounds=5)"
   ]
  },
  {
   "cell_type": "code",
   "execution_count": 1,
   "metadata": {
    "autoscroll": false,
    "collapsed": false,
    "ein.hycell": false,
    "ein.tags": "worksheet-0",
    "slideshow": {
     "slide_type": "-"
    }
   },
   "outputs": [
    {
     "ename": "NameError",
     "evalue": "name 'clf3D' is not defined",
     "output_type": "error",
     "traceback": [
      "\u001b[0;31m---------------------------------------------------------------------------\u001b[0m",
      "\u001b[0;31mNameError\u001b[0m                                 Traceback (most recent call last)",
      "\u001b[0;32m<ipython-input-1-18c629df0b86>\u001b[0m in \u001b[0;36m<module>\u001b[0;34m()\u001b[0m\n\u001b[1;32m      1\u001b[0m \u001b[0;32mimport\u001b[0m \u001b[0mpickle\u001b[0m\u001b[0;34m\u001b[0m\u001b[0m\n\u001b[0;32m----> 2\u001b[0;31m \u001b[0mpickle\u001b[0m\u001b[0;34m.\u001b[0m\u001b[0mdump\u001b[0m\u001b[0;34m(\u001b[0m\u001b[0mclf3D\u001b[0m\u001b[0;34m,\u001b[0m \u001b[0mopen\u001b[0m\u001b[0;34m(\u001b[0m\u001b[0;34m\"early_stopped_track_puid_3D_cfl.pkl\"\u001b[0m\u001b[0;34m,\u001b[0m \u001b[0;34m\"wb\"\u001b[0m\u001b[0;34m)\u001b[0m\u001b[0;34m)\u001b[0m\u001b[0;34m\u001b[0m\u001b[0m\n\u001b[0m",
      "\u001b[0;31mNameError\u001b[0m: name 'clf3D' is not defined"
     ]
    }
   ],
   "source": [
    "import pickle\n",
    "pickle.dump(clf3D, open(\"early_stopped_track_puid_3D_cfl.pkl\", \"wb\"))"
   ]
  },
  {
   "cell_type": "code",
   "execution_count": null,
   "metadata": {
    "autoscroll": false,
    "collapsed": false,
    "ein.hycell": false,
    "ein.tags": "worksheet-0",
    "slideshow": {
     "slide_type": "-"
    }
   },
   "outputs": [],
   "source": [
    "clf4D = XGBClassifier(max_depth=5, n_estimators=300, nthread=16, objective='binary:logistic', subsample=0.75)"
   ]
  },
  {
   "cell_type": "code",
   "execution_count": null,
   "metadata": {
    "autoscroll": false,
    "collapsed": false,
    "ein.hycell": false,
    "ein.tags": "worksheet-0",
    "slideshow": {
     "slide_type": "-"
    }
   },
   "outputs": [],
   "source": [
    "%time clf4D.fit(X_train, y_train, w_train, eval_set=[(X_train, y_train, w_train), (X_test, y_test, w_test)], eval_metric=['error', 'rmse', 'mae', 'logloss'])"
   ]
  },
  {
   "cell_type": "code",
   "execution_count": 28,
   "metadata": {
    "autoscroll": false,
    "collapsed": false,
    "ein.hycell": false,
    "ein.tags": "worksheet-0",
    "slideshow": {
     "slide_type": "-"
    }
   },
   "outputs": [],
   "source": [
    "clf3D = pickle.load(open(\"track_puid_3D_cfl.pkl\", \"rb\"))\n",
    "y_pred_prob_3D = clf3D.predict_proba(X_test[features])"
   ]
  },
  {
   "cell_type": "code",
   "execution_count": 27,
   "metadata": {
    "autoscroll": false,
    "collapsed": false,
    "ein.hycell": false,
    "ein.tags": "worksheet-0",
    "slideshow": {
     "slide_type": "-"
    }
   },
   "outputs": [],
   "source": [
    "y_pred_prob_4D = clf4D.predict_proba(X_test)\n"
   ]
  },
  {
   "cell_type": "code",
   "execution_count": 26,
   "metadata": {
    "autoscroll": false,
    "collapsed": false,
    "ein.hycell": false,
    "ein.tags": "worksheet-0",
    "slideshow": {
     "slide_type": "-"
    }
   },
   "outputs": [],
   "source": [
    "pickle.dump(clf4D, open(\"track_puid_4D_cfl.pkl\", \"wb\"))"
   ]
  },
  {
   "cell_type": "code",
   "execution_count": 30,
   "metadata": {
    "autoscroll": false,
    "collapsed": false,
    "ein.hycell": false,
    "ein.tags": "worksheet-0",
    "slideshow": {
     "slide_type": "-"
    }
   },
   "outputs": [
    {
     "name": "stdout",
     "output_type": "stream",
     "text": [
      "0.933725392354 0.9485184174 0.973091601348\n"
     ]
    },
    {
     "data": {
      "image/png": "[encoded data removed]",
      "text/plain": [
       "<matplotlib.figure.Figure at 0x7fd6622c2940>"
      ]
     },
     "metadata": {},
     "output_type": "display_data"
    }
   ],
   "source": [
    "from sklearn.metrics import roc_auc_score, roc_curve\n",
    "import numpy as np\n",
    "\n",
    "rocDz = roc_curve(y_test, 1.-X_test['dz']/X_test['dz'].max(), sample_weight=w_test)\n",
    "\n",
    "roc3D = roc_curve(y_test, y_pred_prob_3D[:,1], sample_weight=w_test)\n",
    "\n",
    "roc4D = roc_curve(y_test, y_pred_prob_4D[:,1], sample_weight=w_test)\n",
    "\n",
    "hrocDz = plt.plot(rocDz[1], 1-rocDz[0], label='dz')\n",
    "hroc3D = plt.plot(roc3D[1], 1-roc3D[0], label='3D BDT')\n",
    "hroc4D = plt.plot(roc4D[1], 1-roc4D[0], label='4D BDT')\n",
    "plt.xlabel('PV track efficiency')\n",
    "plt.ylabel('PU track rejection')\n",
    "plt.grid()\n",
    "plt.legend()\n",
    "\n",
    "print(roc_auc_score(y_test, 1.-X_test['dz']/X_test['dz'].max(), sample_weight=w_test),\n",
    "      roc_auc_score(y_test, y_pred_prob_3D[:,1], sample_weight=w_test),\n",
    "      roc_auc_score(y_test, y_pred_prob_4D[:,1], sample_weight=w_test)\n",
    ")"
   ]
  },
  {
   "cell_type": "code",
   "execution_count": null,
   "metadata": {
    "autoscroll": false,
    "collapsed": false,
    "ein.hycell": false,
    "ein.tags": "worksheet-0",
    "slideshow": {
     "slide_type": "-"
    }
   },
   "outputs": [
    {
     "data": {
      "image/png": "[encoded data removed]",
      "text/plain": [
       "<matplotlib.figure.Figure at 0x7fd6628774a8>"
      ]
     },
     "metadata": {},
     "output_type": "display_data"
    }
   ],
   "source": [
    "hpv3D = plt.hist(y_pred_prob_3D[(y_test==1),1], range=[0, 1], bins=100, normed=True, alpha=0.5)\n",
    "hpu3D = plt.hist(y_pred_prob_3D[(y_test==0),1], range=[0, 1], bins=100, normed=True, alpha=0.5)\n",
    "plt.yscale('log')"
   ]
  },
  {
   "cell_type": "code",
   "execution_count": 34,
   "metadata": {
    "autoscroll": false,
    "collapsed": false,
    "ein.hycell": false,
    "ein.tags": "worksheet-0",
    "slideshow": {
     "slide_type": "-"
    }
   },
   "outputs": [
    {
     "data": {
      "image/png": "[encoded data removed]",
      "text/plain": [
       "<matplotlib.figure.Figure at 0x7fd6629cfbe0>"
      ]
     },
     "metadata": {},
     "output_type": "display_data"
    }
   ],
   "source": [
    "hpv4D = plt.hist(y_pred_prob_4D[(y_test==1),1], range=[0, 1], bins=100, normed=True, alpha=0.5)\n",
    "hpu4D = plt.hist(y_pred_prob_4D[(y_test==0),1], range=[0, 1], bins=100, normed=True, alpha=0.5)\n",
    "plt.yscale('log')"
   ]
  },
  {
   "cell_type": "code",
   "execution_count": 74,
   "metadata": {
    "autoscroll": false,
    "collapsed": false,
    "ein.hycell": false,
    "ein.tags": "worksheet-0",
    "slideshow": {
     "slide_type": "-"
    }
   },
   "outputs": [],
   "source": [
    "X_rew, X_rewt, y_rew, y_rewt, w_rew, w_rewt = train_test_split(X.head(1000000), y.head(1000000), w.head(1000000), test_size=0., random_state=12345)"
   ]
  },
  {
   "cell_type": "code",
   "execution_count": 75,
   "metadata": {
    "autoscroll": false,
    "collapsed": false,
    "ein.hycell": false,
    "ein.tags": "worksheet-0",
    "slideshow": {
     "slide_type": "-"
    }
   },
   "outputs": [],
   "source": [
    "reweight_clf = XGBClassifier(max_depth=3, n_estimators=200, nthread=8, objective='binary:logistic', subsample=0.75)"
   ]
  },
  {
   "cell_type": "code",
   "execution_count": 76,
   "metadata": {
    "autoscroll": false,
    "collapsed": false,
    "ein.hycell": false,
    "ein.tags": "worksheet-0",
    "slideshow": {
     "slide_type": "-"
    }
   },
   "outputs": [
    {
     "data": {
      "text/plain": [
       "XGBClassifier(base_score=0.5, booster='gbtree', colsample_bylevel=1,\n",
       "       colsample_bytree=1, gamma=0, learning_rate=0.1, max_delta_step=0,\n",
       "       max_depth=3, min_child_weight=1, missing=None, n_estimators=200,\n",
       "       n_jobs=1, nthread=8, objective='binary:logistic', random_state=0,\n",
       "       reg_alpha=0, reg_lambda=1, scale_pos_weight=1, seed=None,\n",
       "       silent=True, subsample=0.75)"
      ]
     },
     "execution_count": 76,
     "metadata": {},
     "output_type": "execute_result"
    }
   ],
   "source": [
    "reweight_clf.fit(X_rew[['pt', 'eta']], y_rew, w_rew)"
   ]
  },
  {
   "cell_type": "code",
   "execution_count": null,
   "metadata": {
    "autoscroll": false,
    "collapsed": false,
    "ein.hycell": false,
    "ein.tags": "worksheet-0",
    "slideshow": {
     "slide_type": "-"
    }
   },
   "outputs": [],
   "source": [
    "rew_eta_pt = reweight_clf.predict_proba(X_train)"
   ]
  },
  {
   "cell_type": "code",
   "execution_count": null,
   "metadata": {
    "autoscroll": false,
    "collapsed": false,
    "ein.hycell": false,
    "ein.tags": "worksheet-0",
    "slideshow": {
     "slide_type": "-"
    }
   },
   "outputs": [
    {
     "data": {
      "image/png": "[encoded data removed]",
      "text/plain": [
       "<matplotlib.figure.Figure at 0x7fd66465f358>"
      ]
     },
     "metadata": {},
     "output_type": "display_data"
    }
   ],
   "source": [
    "eta_pt_weight = \n",
    "\n",
    "ptpv = plt.hist(X_train['eta'][y_train==1], range=(-4,4), bins=100, alpha=0.5, normed=True, weights=)\n",
    "ptpu = plt.hist(X_train['eta'][y_train==0], range=(-4,4), bins=100, alpha=0.5, normed=True)\n",
    "plt.yscale('log')"
   ]
  },
  {
   "cell_type": "code",
   "execution_count": 35,
   "metadata": {
    "autoscroll": false,
    "collapsed": false,
    "ein.hycell": false,
    "ein.tags": "worksheet-0",
    "slideshow": {
     "slide_type": "-"
    }
   },
   "outputs": [
    {
     "data": {
      "text/plain": [
       "[<matplotlib.lines.Line2D at 0x7fcde4161320>]"
      ]
     },
     "execution_count": 35,
     "metadata": {},
     "output_type": "execute_result"
    },
    {
     "data": {
      "image/png": "[encoded data removed]",
      "text/plain": [
       "<matplotlib.figure.Figure at 0x7fcde41613c8>"
      ]
     },
     "metadata": {},
     "output_type": "display_data"
    }
   ],
   "source": [
    "import pickle\n",
    "clf3D = pickle.load(open(\"TEST_track_puid_3D_cfl.pkl\", \"rb\"))\n",
    "results = fitres3D.evals_result()\n",
    "fig, ax = plt.subplots()\n",
    "epochs = len(results['validation_0']['error'])\n",
    "x_axis = range(0, epochs)\n",
    "ax.plot(x_axis[200:], results['validation_0']['logloss'][200:], label='Train')\n",
    "ax.plot(x_axis[200:], results['validation_1']['logloss'][200:], label='Test')"
   ]
  },
  {
   "cell_type": "code",
   "execution_count": null,
   "metadata": {
    "autoscroll": false,
    "collapsed": false,
    "ein.hycell": false,
    "ein.tags": "worksheet-0",
    "slideshow": {
     "slide_type": "-"
    }
   },
   "outputs": [],
   "source": []
  }
 ],
 "metadata": {
  "kernelspec": {
   "display_name": "Python 3",
   "name": "python3"
  },
  "name": "track_puid_training.ipynb"
 },
 "nbformat": 4,
 "nbformat_minor": 1
}
